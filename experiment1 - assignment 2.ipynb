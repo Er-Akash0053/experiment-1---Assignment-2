{
 "cells": [
  {
   "cell_type": "code",
   "execution_count": 1,
   "id": "ed6e5650-123a-4e74-b6cb-d7772129368f",
   "metadata": {},
   "outputs": [
    {
     "name": "stdout",
     "output_type": "stream",
     "text": [
      "=== Initial Data Quality Check ===\n",
      "Missing values:\n",
      " emp_id,name,email,joining_date,department,salary    0\n",
      "dtype: int64\n",
      "\n",
      "Duplicate rows: 1\n",
      "\n",
      "Data types:\n",
      " emp_id,name,email,joining_date,department,salary    object\n",
      "dtype: object \n",
      "\n"
     ]
    }
   ],
   "source": [
    "import pandas as pd\n",
    "\n",
    "df = pd.read_csv(\"employee_data.csv\")\n",
    "\n",
    "print(\"=== Initial Data Quality Check ===\")\n",
    "print(\"Missing values:\\n\", df.isnull().sum())\n",
    "print(\"\\nDuplicate rows:\", df.duplicated().sum())\n",
    "print(\"\\nData types:\\n\", df.dtypes, \"\\n\")\n",
    "\n",
    "df.drop_duplicates(inplace=True)\n",
    "\n",
    "df.fillna({\"Department\": \"Unknown\"}, inplace=True)\n",
    "df.fillna(df.median(numeric_only=True), inplace=True)\n",
    "\n",
    "if \"Joining Date\" in df.columns:\n",
    "    df[\"Joining Date\"] = pd.to_datetime(df[\"Joining Date\"], errors=\"coerce\")\n",
    "    df[\"Joining Date\"].fillna(df[\"Joining Date\"].min(), inplace=True)\n",
    "\n",
    "if \"Salary\" in df.columns:\n",
    "    df[\"Salary\"] = pd.to_numeric(\n",
    "        df[\"Salary\"].astype(str).str.replace(r\"[^0-9.]\", \"\", regex=True),\n",
    "        errors=\"coerce\"\n",
    "    ).fillna(df[\"Salary\"].median())\n",
    "    \n",
    "if \"Department\" in df.columns:\n",
    "    df[\"Department\"] = df[\"Department\"].str.strip().str.title().replace({\n",
    "        \"Hr\": \"Human Resources\", \"Human Resource\": \"Human Resources\",\n",
    "        \"It\": \"IT\", \"I.T\": \"IT\", \"Finance Dept\": \"Finance\"\n",
    "    })\n"
   ]
  },
  {
   "cell_type": "code",
   "execution_count": null,
   "id": "5d2835a3-0715-420e-aab7-3ec8474a5d0e",
   "metadata": {},
   "outputs": [],
   "source": []
  }
 ],
 "metadata": {
  "kernelspec": {
   "display_name": "Python 3 (ipykernel)",
   "language": "python",
   "name": "python3"
  },
  "language_info": {
   "codemirror_mode": {
    "name": "ipython",
    "version": 3
   },
   "file_extension": ".py",
   "mimetype": "text/x-python",
   "name": "python",
   "nbconvert_exporter": "python",
   "pygments_lexer": "ipython3",
   "version": "3.10.11"
  }
 },
 "nbformat": 4,
 "nbformat_minor": 5
}
